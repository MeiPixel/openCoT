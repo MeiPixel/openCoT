{
 "cells": [
  {
   "cell_type": "code",
   "execution_count": 1,
   "metadata": {
    "pycharm": {
     "is_executing": true
    }
   },
   "outputs": [],
   "source": [
    "import os\n",
    "\n",
    "os.environ['http_proxy'] = 'http://127.0.0.1:1080'\n",
    "os.environ['https_proxy'] = 'http://127.0.0.1:1080'\n",
    "os.environ[\"OPENAI_API_KEY\"] = \"\"\n",
    "import openai\n"
   ]
  },
  {
   "cell_type": "markdown",
   "metadata": {},
   "source": [
    "## 我们先定义一个llm函数，用来请求openai"
   ]
  },
  {
   "cell_type": "code",
   "execution_count": 2,
   "metadata": {},
   "outputs": [],
   "source": [
    "def llm(message):\n",
    "    try:\n",
    "        response = openai.ChatCompletion.create(\n",
    "            model=\"gpt-3.5-turbo\",\n",
    "            messages=[{\"role\":\"user\",\"content\":message}]\n",
    "        )\n",
    "        text = response[\"choices\"][0][\"message\"]['content']\n",
    "        return text\n",
    "    except:\n",
    "        return llm(message)"
   ]
  },
  {
   "cell_type": "markdown",
   "metadata": {},
   "source": [
    "## 然后定义一个函数用来解析json格式的返回结果"
   ]
  },
  {
   "cell_type": "code",
   "execution_count": null,
   "metadata": {
    "pycharm": {
     "is_executing": true
    }
   },
   "outputs": [],
   "source": [
    "def super_eval(json_str):\n",
    "    if '```json' in json_str:\n",
    "        json_str  = json_str.replace('```json','')\n",
    "    json_str  = json_str.replace('```','')\n",
    "    return eval(json_str)"
   ]
  },
  {
   "cell_type": "markdown",
   "metadata": {},
   "source": [
    "## 然后设计我们的prompt"
   ]
  },
  {
   "cell_type": "code",
   "execution_count": 3,
   "metadata": {},
   "outputs": [],
   "source": [
    "prompt= \"\"\"\n",
    "一本好的 Linux 教材应该具备以下特点：\n",
    "\n",
    "1. **内容全面**：涵盖 Linux 的基本概念、核心功能和常用工具，包括操作系统原理、文件系统、命令行操作、系统管理、网络配置、权限和安全等。\n",
    "\n",
    "2. **结构清晰**：教材的组织和排列应该按照逻辑顺序，有助于读者从基础知识逐步进入高级主题，同时方便跳过已熟悉的内容。\n",
    "\n",
    "3. **实用性强**：教材应该注重实用性，提供丰富的实例和操作指南，帮助读者在实际工作中应用 Linux 技能。\n",
    "\n",
    "4. **易懂易学**：使用通俗易懂的语言，尽量避免生僻词汇和复杂的句子结构。对于相关概念和知识点，应给出清晰的解释和示例。\n",
    "\n",
    "5. **针对不同层次的读者**：教材应适应不同层次的读者，既要为初学者提供基础知识，也要满足有经验的用户对高级技巧的需求。\n",
    "\n",
    "6. **兼容性和更新性**：教材应关注 Linux 发行版的兼容性，避免只针对某一特定版本。同时，随着 Linux 系统的更新，教材也应及时更新，保持与时俱进。\n",
    "\n",
    "7. **互动性和可扩展性**：提供在线资源和社区支持，帮助读者解决问题、交流经验和学习新知识。此外，鼓励读者参与教材的完善和扩展，形成一个活跃的学习生态。\n",
    "\n",
    "8. **有针对性的附加资源**：包括练习题、实验指南、项目案例等，以巩固学习成果，提高读者的实践能力。\n",
    "\n",
    "基于此特点列一份linux教材目录\n",
    "\n",
    "用json格式，格式为：\n",
    "```json\n",
    "[\n",
    "  {\n",
    "    \"chapter_name\": str,\n",
    "    \"subsection_name\": [\n",
    "str,...\n",
    "    ]\n",
    "  },{\n",
    "    \"chapter_name\": str,\n",
    "    \"subsection_name\": [\n",
    "str,...\n",
    "    ]\n",
    "  },...]\n",
    "  ```\n",
    "\"\"\""
   ]
  },
  {
   "cell_type": "markdown",
   "metadata": {},
   "source": [
    "## 然后获取openai结果"
   ]
  },
  {
   "cell_type": "code",
   "execution_count": 10,
   "metadata": {},
   "outputs": [],
   "source": [
    "chapters = llm(prompt)"
   ]
  },
  {
   "cell_type": "markdown",
   "metadata": {},
   "source": [
    "##  结果已经可以转为程序可读的格式了"
   ]
  },
  {
   "cell_type": "code",
   "execution_count": 11,
   "metadata": {},
   "outputs": [
    {
     "name": "stdout",
     "output_type": "stream",
     "text": [
      "{'chapter_name': 'Linux基础知识', 'subsection_name': ['Linux的起源和发展', 'Linux的体系结构和特点', '常用Linux发行版介绍', 'Linux系统安装和配置', 'Shell基础', 'Linux文件系统和目录结构', 'Linux常用命令使用', '文本编辑器的使用']}\n",
      "{'chapter_name': 'Linux系统管理', 'subsection_name': ['用户和组管理', 'Linux文件权限和ACL', '进程管理', '服务管理', '日志管理', 'Linux系统更新和升级', '系统备份和恢复', 'Linux性能调优']}\n",
      "{'chapter_name': 'Linux网络配置', 'subsection_name': ['TCP/IP协议栈原理', '网络配置和管理', '远程登录和文件传输', '常见网络服务的配置和管理', 'Linux防火墙和安全', '网络监控和调试工具']}\n",
      "{'chapter_name': 'Linux高级主题', 'subsection_name': ['编译内核和模块', 'Linux虚拟化技术和容器', 'Linux容错和高可用', 'Linux集群和分布式系统', 'Shell脚本编程', 'Linux权限和安全', 'Linux开发环境和工具', 'Linux云计算和DevOps']}\n",
      "{'chapter_name': 'Linux应用开发', 'subsection_name': ['C/C++语言开发环境和工具', 'Python语言开发环境和工具', 'Java语言开发环境和工具', 'Web应用程序部署和管理', '数据库开发和管理']}\n",
      "{'chapter_name': 'Linux实践案例', 'subsection_name': ['构建Web服务器集群', '搭建容器化应用环境', '网络存储和备份系统', '虚拟桌面系统环境', 'Linux游戏开发和引擎', 'Linux服务器管理和运维', '高性能计算和科学计算']}\n"
     ]
    }
   ],
   "source": [
    "for i in super_eval(chapters):\n",
    "    print(i)"
   ]
  },
  {
   "cell_type": "markdown",
   "metadata": {},
   "source": [
    "## 接下来我们对每一章节进行书写"
   ]
  },
  {
   "cell_type": "code",
   "execution_count": 12,
   "metadata": {},
   "outputs": [],
   "source": [
    "prompt = '''\n",
    "写书的内容要求如下：\n",
    "\n",
    "在每一节的小内容上，为了使内容符合前面提到的特点，可以遵循以下原则：\n",
    "\n",
    "1. **定义和解释**：对每个概念或技术进行简洁明了的定义和解释，确保读者对基本概念有清晰的理解。\n",
    "\n",
    "2. **关联性**：在讲解新概念时，强调与已学内容的关联性，帮助读者建立知识体系。\n",
    "\n",
    "3. **示例和实践**：为每个小节提供一个或多个实际示例，展示如何在实际环境中应用所学知识。可提供操作指南、脚本或命令行的使用方法等。\n",
    "\n",
    "4. **逐步深入**：从简单到复杂，逐步引导读者深入了解主题。在前面的基础知识上，逐渐介绍高级技巧和应用。\n",
    "\n",
    "5. **注意事项和技巧**：提供在实际操作过程中可能遇到的问题、注意事项和解决方法，以及一些实用的技巧和建议。\n",
    "\n",
    "6. **检查和总结**：在每个小节的末尾，设置一些问题或练习，以帮助读者检查自己的理解程度。同时，对本节内容进行简要总结，强化关键点。\n",
    "\n",
    "7. **参考和资源**：提供相关的参考资料、链接和额外资源，方便读者扩展学习和获取实时更新。\n",
    "\n",
    "通过以上原则，可以确保每一节的内容符合全面、系统、实用、易懂和兼容等特点，为读者提供高质量的学习体验。同时，也要注意保持教材的整体风格和结构一致，以便读者更容易理解和掌握。\n",
    "\n",
    "你现在书写的章节目录为:{},\n",
    "\n",
    "你现在书写的具体小节为:{},\n",
    "\n",
    "你现在书写的具体部分为:{},\n",
    "\n",
    "你现在书写的具体内容为:{}\n",
    "\n",
    "请使用markdown格式输出：\n",
    "'''"
   ]
  },
  {
   "cell_type": "markdown",
   "metadata": {},
   "source": [
    "## 考虑到篇幅问题，可以对每一章进行内容的细化，然后在进行书写"
   ]
  },
  {
   "cell_type": "code",
   "execution_count": 13,
   "metadata": {},
   "outputs": [],
   "source": [
    "prompt2 = '''\n",
    "写书的内容要求如下：\n",
    "\n",
    "在每一节的小内容上，为了使内容符合前面提到的特点，可以遵循以下原则：\n",
    "\n",
    "1. **定义和解释**：对每个概念或技术进行简洁明了的定义和解释，确保读者对基本概念有清晰的理解。\n",
    "\n",
    "2. **关联性**：在讲解新概念时，强调与已学内容的关联性，帮助读者建立知识体系。\n",
    "\n",
    "3. **示例和实践**：为每个小节提供一个或多个实际示例，展示如何在实际环境中应用所学知识。可提供操作指南、脚本或命令行的使用方法等。\n",
    "\n",
    "4. **逐步深入**：从简单到复杂，逐步引导读者深入了解主题。在前面的基础知识上，逐渐介绍高级技巧和应用。\n",
    "\n",
    "5. **注意事项和技巧**：提供在实际操作过程中可能遇到的问题、注意事项和解决方法，以及一些实用的技巧和建议。\n",
    "\n",
    "6. **检查和总结**：在每个小节的末尾，设置一些问题或练习，以帮助读者检查自己的理解程度。同时，对本节内容进行简要总结，强化关键点。\n",
    "\n",
    "7. **参考和资源**：提供相关的参考资料、链接和额外资源，方便读者扩展学习和获取实时更新。\n",
    "\n",
    "通过以上原则，可以确保每一节的内容符合全面、系统、实用、易懂和兼容等特点，为读者提供高质量的学习体验。同时，也要注意保持教材的整体风格和结构一致，以便读者更容易理解和掌握。\n",
    "\n",
    "你现在书写的章节目录为:{},\n",
    "\n",
    "你现在书写的具体小节为:{}\n",
    "\n",
    "基于以上内容，细化小节为多个部分，并使用以下json格式输出：\n",
    "```json\n",
    "[\n",
    "  {{\n",
    "    \"part\": 名字,\n",
    "    \"content\":内容概要\n",
    "  \n",
    "  }},{{\n",
    "   \"part\": 名字 ,\n",
    "       \"content\":内容概要}},\n",
    "   ...]\n",
    "  ```\n",
    "\"\"\"\n",
    "'''"
   ]
  },
  {
   "cell_type": "code",
   "execution_count": null,
   "metadata": {},
   "outputs": [],
   "source": [
    "# 对每一章循环\n",
    "for chapter_inx,chapter in enumerate(super_eval(chapters)):\n",
    "    subsection_names = ''\n",
    "    for subsection_name_inx,subsection_name in enumerate(chapter['subsection_name']):\n",
    "        subsection_names+=f'\\t第{subsection_name_inx+1}节:{subsection_name}\\n'\n",
    "    directory_str = f'''\n",
    "第{chapter_inx+1}章:{chapter['chapter_name']}\n",
    "{subsection_names}\n",
    "    '''\n",
    "   \n",
    "    for subsection_name_inx,subsection_name in enumerate(chapter['subsection_name']):\n",
    "        # 获取每一节的细化的结果\n",
    "        write_infos = llm(prompt2.format(directory_str,f'\\t第{subsection_name_inx+1}节:{subsection_name}'))\n",
    "        for  write_info in super_eval(write_infos):\n",
    "            # 开始书写\n",
    "            content = llm(prompt.format(directory_str,f'\\t第{subsection_name_inx+1}节:{subsection_name}',write_info['part'],write_info['content']))\n",
    "            with open(f\"F:/开源课程/book/第{chapter_inx+1}章 {chapter['chapter_name']} 第{subsection_name_inx+1}节 {subsection_name}.md\",'a',encoding='utf8') as f:\n",
    "                f.write(content+'\\n')"
   ]
  },
  {
   "cell_type": "code",
   "execution_count": null,
   "metadata": {},
   "outputs": [],
   "source": []
  }
 ],
 "metadata": {
  "kernelspec": {
   "display_name": "Python 3 (ipykernel)",
   "language": "python",
   "name": "python3"
  },
  "language_info": {
   "codemirror_mode": {
    "name": "ipython",
    "version": 3
   },
   "file_extension": ".py",
   "mimetype": "text/x-python",
   "name": "python",
   "nbconvert_exporter": "python",
   "pygments_lexer": "ipython3",
   "version": "3.10.10"
  }
 },
 "nbformat": 4,
 "nbformat_minor": 1
}
